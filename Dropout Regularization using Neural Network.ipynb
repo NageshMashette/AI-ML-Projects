{
 "cells": [
  {
   "cell_type": "code",
   "execution_count": 21,
   "metadata": {},
   "outputs": [],
   "source": [
    "import numpy as np\n",
    "import pandas as pd\n",
    "import matplotlib.pyplot as plt\n",
    "import sklearn\n",
    "import tensorflow\n",
    "from tensorflow import keras\n",
    "from keras.layers import Dropout, Dense, Activation\n",
    "from keras.models import Sequential"
   ]
  },
  {
   "cell_type": "code",
   "execution_count": 2,
   "metadata": {},
   "outputs": [],
   "source": [
    "from sklearn.datasets import load_iris\n",
    "iris = load_iris()\n",
    "from sklearn.decomposition import PCA"
   ]
  },
  {
   "cell_type": "code",
   "execution_count": 3,
   "metadata": {},
   "outputs": [],
   "source": [
    "data1 = pd.DataFrame(data= np.c_[iris['data'], iris['target']],\n",
    "                     columns= iris['feature_names'] + ['target'])"
   ]
  },
  {
   "cell_type": "code",
   "execution_count": 4,
   "metadata": {},
   "outputs": [
    {
     "data": {
      "text/html": [
       "<div>\n",
       "<style scoped>\n",
       "    .dataframe tbody tr th:only-of-type {\n",
       "        vertical-align: middle;\n",
       "    }\n",
       "\n",
       "    .dataframe tbody tr th {\n",
       "        vertical-align: top;\n",
       "    }\n",
       "\n",
       "    .dataframe thead th {\n",
       "        text-align: right;\n",
       "    }\n",
       "</style>\n",
       "<table border=\"1\" class=\"dataframe\">\n",
       "  <thead>\n",
       "    <tr style=\"text-align: right;\">\n",
       "      <th></th>\n",
       "      <th>sepal length (cm)</th>\n",
       "      <th>sepal width (cm)</th>\n",
       "      <th>petal length (cm)</th>\n",
       "      <th>petal width (cm)</th>\n",
       "      <th>target</th>\n",
       "    </tr>\n",
       "  </thead>\n",
       "  <tbody>\n",
       "    <tr>\n",
       "      <th>0</th>\n",
       "      <td>5.1</td>\n",
       "      <td>3.5</td>\n",
       "      <td>1.4</td>\n",
       "      <td>0.2</td>\n",
       "      <td>0.0</td>\n",
       "    </tr>\n",
       "    <tr>\n",
       "      <th>1</th>\n",
       "      <td>4.9</td>\n",
       "      <td>3.0</td>\n",
       "      <td>1.4</td>\n",
       "      <td>0.2</td>\n",
       "      <td>0.0</td>\n",
       "    </tr>\n",
       "    <tr>\n",
       "      <th>2</th>\n",
       "      <td>4.7</td>\n",
       "      <td>3.2</td>\n",
       "      <td>1.3</td>\n",
       "      <td>0.2</td>\n",
       "      <td>0.0</td>\n",
       "    </tr>\n",
       "    <tr>\n",
       "      <th>3</th>\n",
       "      <td>4.6</td>\n",
       "      <td>3.1</td>\n",
       "      <td>1.5</td>\n",
       "      <td>0.2</td>\n",
       "      <td>0.0</td>\n",
       "    </tr>\n",
       "    <tr>\n",
       "      <th>4</th>\n",
       "      <td>5.0</td>\n",
       "      <td>3.6</td>\n",
       "      <td>1.4</td>\n",
       "      <td>0.2</td>\n",
       "      <td>0.0</td>\n",
       "    </tr>\n",
       "  </tbody>\n",
       "</table>\n",
       "</div>"
      ],
      "text/plain": [
       "   sepal length (cm)  sepal width (cm)  petal length (cm)  petal width (cm)  \\\n",
       "0                5.1               3.5                1.4               0.2   \n",
       "1                4.9               3.0                1.4               0.2   \n",
       "2                4.7               3.2                1.3               0.2   \n",
       "3                4.6               3.1                1.5               0.2   \n",
       "4                5.0               3.6                1.4               0.2   \n",
       "\n",
       "   target  \n",
       "0     0.0  \n",
       "1     0.0  \n",
       "2     0.0  \n",
       "3     0.0  \n",
       "4     0.0  "
      ]
     },
     "execution_count": 4,
     "metadata": {},
     "output_type": "execute_result"
    }
   ],
   "source": [
    "data1.head()"
   ]
  },
  {
   "cell_type": "code",
   "execution_count": 9,
   "metadata": {},
   "outputs": [
    {
     "data": {
      "text/plain": [
       "2.0    50\n",
       "1.0    50\n",
       "0.0    50\n",
       "Name: target, dtype: int64"
      ]
     },
     "execution_count": 9,
     "metadata": {},
     "output_type": "execute_result"
    }
   ],
   "source": [
    "data1['target'].value_counts()"
   ]
  },
  {
   "cell_type": "code",
   "execution_count": 10,
   "metadata": {},
   "outputs": [
    {
     "data": {
      "text/plain": [
       "sepal length (cm)    0\n",
       "sepal width (cm)     0\n",
       "petal length (cm)    0\n",
       "petal width (cm)     0\n",
       "target               0\n",
       "dtype: int64"
      ]
     },
     "execution_count": 10,
     "metadata": {},
     "output_type": "execute_result"
    }
   ],
   "source": [
    "data1.isnull().sum()"
   ]
  },
  {
   "cell_type": "code",
   "execution_count": 11,
   "metadata": {},
   "outputs": [
    {
     "data": {
      "text/plain": [
       "1"
      ]
     },
     "execution_count": 11,
     "metadata": {},
     "output_type": "execute_result"
    }
   ],
   "source": [
    "data1.duplicated().sum()"
   ]
  },
  {
   "cell_type": "code",
   "execution_count": 13,
   "metadata": {},
   "outputs": [],
   "source": [
    "data1.drop_duplicates(inplace=True)"
   ]
  },
  {
   "cell_type": "code",
   "execution_count": 14,
   "metadata": {},
   "outputs": [
    {
     "data": {
      "text/html": [
       "<div>\n",
       "<style scoped>\n",
       "    .dataframe tbody tr th:only-of-type {\n",
       "        vertical-align: middle;\n",
       "    }\n",
       "\n",
       "    .dataframe tbody tr th {\n",
       "        vertical-align: top;\n",
       "    }\n",
       "\n",
       "    .dataframe thead th {\n",
       "        text-align: right;\n",
       "    }\n",
       "</style>\n",
       "<table border=\"1\" class=\"dataframe\">\n",
       "  <thead>\n",
       "    <tr style=\"text-align: right;\">\n",
       "      <th></th>\n",
       "      <th>sepal length (cm)</th>\n",
       "      <th>sepal width (cm)</th>\n",
       "      <th>petal length (cm)</th>\n",
       "      <th>petal width (cm)</th>\n",
       "      <th>target</th>\n",
       "    </tr>\n",
       "  </thead>\n",
       "  <tbody>\n",
       "    <tr>\n",
       "      <th>0</th>\n",
       "      <td>5.1</td>\n",
       "      <td>3.5</td>\n",
       "      <td>1.4</td>\n",
       "      <td>0.2</td>\n",
       "      <td>0.0</td>\n",
       "    </tr>\n",
       "    <tr>\n",
       "      <th>1</th>\n",
       "      <td>4.9</td>\n",
       "      <td>3.0</td>\n",
       "      <td>1.4</td>\n",
       "      <td>0.2</td>\n",
       "      <td>0.0</td>\n",
       "    </tr>\n",
       "    <tr>\n",
       "      <th>2</th>\n",
       "      <td>4.7</td>\n",
       "      <td>3.2</td>\n",
       "      <td>1.3</td>\n",
       "      <td>0.2</td>\n",
       "      <td>0.0</td>\n",
       "    </tr>\n",
       "    <tr>\n",
       "      <th>3</th>\n",
       "      <td>4.6</td>\n",
       "      <td>3.1</td>\n",
       "      <td>1.5</td>\n",
       "      <td>0.2</td>\n",
       "      <td>0.0</td>\n",
       "    </tr>\n",
       "    <tr>\n",
       "      <th>4</th>\n",
       "      <td>5.0</td>\n",
       "      <td>3.6</td>\n",
       "      <td>1.4</td>\n",
       "      <td>0.2</td>\n",
       "      <td>0.0</td>\n",
       "    </tr>\n",
       "  </tbody>\n",
       "</table>\n",
       "</div>"
      ],
      "text/plain": [
       "   sepal length (cm)  sepal width (cm)  petal length (cm)  petal width (cm)  \\\n",
       "0                5.1               3.5                1.4               0.2   \n",
       "1                4.9               3.0                1.4               0.2   \n",
       "2                4.7               3.2                1.3               0.2   \n",
       "3                4.6               3.1                1.5               0.2   \n",
       "4                5.0               3.6                1.4               0.2   \n",
       "\n",
       "   target  \n",
       "0     0.0  \n",
       "1     0.0  \n",
       "2     0.0  \n",
       "3     0.0  \n",
       "4     0.0  "
      ]
     },
     "execution_count": 14,
     "metadata": {},
     "output_type": "execute_result"
    }
   ],
   "source": [
    "data1.head()"
   ]
  },
  {
   "cell_type": "code",
   "execution_count": 15,
   "metadata": {},
   "outputs": [
    {
     "data": {
      "text/plain": [
       "(149, 5)"
      ]
     },
     "execution_count": 15,
     "metadata": {},
     "output_type": "execute_result"
    }
   ],
   "source": [
    "data1.shape"
   ]
  },
  {
   "cell_type": "code",
   "execution_count": 16,
   "metadata": {},
   "outputs": [
    {
     "data": {
      "text/plain": [
       "Index(['sepal length (cm)', 'sepal width (cm)', 'petal length (cm)',\n",
       "       'petal width (cm)', 'target'],\n",
       "      dtype='object')"
      ]
     },
     "execution_count": 16,
     "metadata": {},
     "output_type": "execute_result"
    }
   ],
   "source": [
    "data1.columns"
   ]
  },
  {
   "cell_type": "code",
   "execution_count": 39,
   "metadata": {},
   "outputs": [],
   "source": [
    "X= data1.iloc[: , :-1]\n",
    "Y= data1.target"
   ]
  },
  {
   "cell_type": "code",
   "execution_count": 45,
   "metadata": {},
   "outputs": [],
   "source": [
    "from sklearn.model_selection import train_test_split\n",
    "X_train, X_test, Y_train, Y_test = train_test_split(X,Y,test_size=0.2, random_state = 10)"
   ]
  },
  {
   "cell_type": "code",
   "execution_count": 46,
   "metadata": {},
   "outputs": [
    {
     "data": {
      "text/plain": [
       "(119, 4)"
      ]
     },
     "execution_count": 46,
     "metadata": {},
     "output_type": "execute_result"
    }
   ],
   "source": [
    "X_train.shape"
   ]
  },
  {
   "cell_type": "code",
   "execution_count": 47,
   "metadata": {},
   "outputs": [
    {
     "data": {
      "text/plain": [
       "(30, 4)"
      ]
     },
     "execution_count": 47,
     "metadata": {},
     "output_type": "execute_result"
    }
   ],
   "source": [
    "X_test.shape"
   ]
  },
  {
   "cell_type": "code",
   "execution_count": 48,
   "metadata": {},
   "outputs": [
    {
     "data": {
      "text/plain": [
       "(119,)"
      ]
     },
     "execution_count": 48,
     "metadata": {},
     "output_type": "execute_result"
    }
   ],
   "source": [
    "Y_train.shape"
   ]
  },
  {
   "cell_type": "code",
   "execution_count": 49,
   "metadata": {},
   "outputs": [
    {
     "data": {
      "text/plain": [
       "(30,)"
      ]
     },
     "execution_count": 49,
     "metadata": {},
     "output_type": "execute_result"
    }
   ],
   "source": [
    "Y_test.shape"
   ]
  },
  {
   "cell_type": "markdown",
   "metadata": {},
   "source": [
    "# without Dropout layer"
   ]
  },
  {
   "cell_type": "code",
   "execution_count": 75,
   "metadata": {},
   "outputs": [],
   "source": [
    "model= keras.Sequential([\n",
    "    Dense(5, input_dim= 4, activation= 'relu'),\n",
    "    Dense(3,  activation= 'softmax')\n",
    "])"
   ]
  },
  {
   "cell_type": "code",
   "execution_count": 76,
   "metadata": {},
   "outputs": [],
   "source": [
    "model.compile(loss='binary_crossentropy', optimizer = 'adam', metrics = ['accuracy'])"
   ]
  },
  {
   "cell_type": "code",
   "execution_count": 78,
   "metadata": {},
   "outputs": [
    {
     "name": "stdout",
     "output_type": "stream",
     "text": [
      "Epoch 1/50\n",
      "15/15 [==============================] - 0s 2ms/step - loss: 1.1046 - accuracy: 0.3277\n",
      "Epoch 2/50\n",
      "15/15 [==============================] - 0s 1ms/step - loss: 1.1045 - accuracy: 0.3277\n",
      "Epoch 3/50\n",
      "15/15 [==============================] - 0s 1ms/step - loss: 1.1045 - accuracy: 0.3361\n",
      "Epoch 4/50\n",
      "15/15 [==============================] - 0s 2ms/step - loss: 1.1045 - accuracy: 0.3361\n",
      "Epoch 5/50\n",
      "15/15 [==============================] - 0s 2ms/step - loss: 1.1045 - accuracy: 0.3361\n",
      "Epoch 6/50\n",
      "15/15 [==============================] - 0s 2ms/step - loss: 1.1045 - accuracy: 0.3361\n",
      "Epoch 7/50\n",
      "15/15 [==============================] - 0s 2ms/step - loss: 1.1045 - accuracy: 0.3361\n",
      "Epoch 8/50\n",
      "15/15 [==============================] - 0s 2ms/step - loss: 1.1045 - accuracy: 0.3361\n",
      "Epoch 9/50\n",
      "15/15 [==============================] - 0s 2ms/step - loss: 1.1045 - accuracy: 0.3361\n",
      "Epoch 10/50\n",
      "15/15 [==============================] - 0s 2ms/step - loss: 1.1045 - accuracy: 0.3361\n",
      "Epoch 11/50\n",
      "15/15 [==============================] - 0s 2ms/step - loss: 1.1045 - accuracy: 0.3361\n",
      "Epoch 12/50\n",
      "15/15 [==============================] - 0s 2ms/step - loss: 1.1045 - accuracy: 0.3361\n",
      "Epoch 13/50\n",
      "15/15 [==============================] - 0s 2ms/step - loss: 1.1045 - accuracy: 0.3361\n",
      "Epoch 14/50\n",
      "15/15 [==============================] - 0s 2ms/step - loss: 1.1045 - accuracy: 0.3361\n",
      "Epoch 15/50\n",
      "15/15 [==============================] - 0s 2ms/step - loss: 1.1045 - accuracy: 0.3361\n",
      "Epoch 16/50\n",
      "15/15 [==============================] - 0s 2ms/step - loss: 1.1045 - accuracy: 0.3361\n",
      "Epoch 17/50\n",
      "15/15 [==============================] - 0s 2ms/step - loss: 1.1045 - accuracy: 0.3361\n",
      "Epoch 18/50\n",
      "15/15 [==============================] - 0s 2ms/step - loss: 1.1045 - accuracy: 0.3361\n",
      "Epoch 19/50\n",
      "15/15 [==============================] - 0s 2ms/step - loss: 1.1045 - accuracy: 0.3361\n",
      "Epoch 20/50\n",
      "15/15 [==============================] - 0s 2ms/step - loss: 1.1045 - accuracy: 0.3361\n",
      "Epoch 21/50\n",
      "15/15 [==============================] - 0s 2ms/step - loss: 1.1045 - accuracy: 0.3361\n",
      "Epoch 22/50\n",
      "15/15 [==============================] - 0s 2ms/step - loss: 1.1045 - accuracy: 0.3445\n",
      "Epoch 23/50\n",
      "15/15 [==============================] - 0s 3ms/step - loss: 1.1045 - accuracy: 0.3445\n",
      "Epoch 24/50\n",
      "15/15 [==============================] - 0s 2ms/step - loss: 1.1044 - accuracy: 0.3445\n",
      "Epoch 25/50\n",
      "15/15 [==============================] - 0s 2ms/step - loss: 1.1044 - accuracy: 0.3445\n",
      "Epoch 26/50\n",
      "15/15 [==============================] - 0s 2ms/step - loss: 1.1044 - accuracy: 0.3445\n",
      "Epoch 27/50\n",
      "15/15 [==============================] - 0s 2ms/step - loss: 1.1044 - accuracy: 0.3445\n",
      "Epoch 28/50\n",
      "15/15 [==============================] - 0s 2ms/step - loss: 1.1044 - accuracy: 0.3445\n",
      "Epoch 29/50\n",
      "15/15 [==============================] - 0s 2ms/step - loss: 1.1044 - accuracy: 0.3445\n",
      "Epoch 30/50\n",
      "15/15 [==============================] - 0s 2ms/step - loss: 1.1044 - accuracy: 0.3445\n",
      "Epoch 31/50\n",
      "15/15 [==============================] - 0s 1ms/step - loss: 1.1044 - accuracy: 0.3445\n",
      "Epoch 32/50\n",
      "15/15 [==============================] - 0s 1ms/step - loss: 1.1044 - accuracy: 0.3445\n",
      "Epoch 33/50\n",
      "15/15 [==============================] - 0s 2ms/step - loss: 1.1044 - accuracy: 0.3445\n",
      "Epoch 34/50\n",
      "15/15 [==============================] - 0s 2ms/step - loss: 1.1044 - accuracy: 0.3445\n",
      "Epoch 35/50\n",
      "15/15 [==============================] - 0s 1ms/step - loss: 1.1044 - accuracy: 0.3445\n",
      "Epoch 36/50\n",
      "15/15 [==============================] - 0s 1ms/step - loss: 1.1044 - accuracy: 0.3445\n",
      "Epoch 37/50\n",
      "15/15 [==============================] - 0s 1ms/step - loss: 1.1044 - accuracy: 0.3445\n",
      "Epoch 38/50\n",
      "15/15 [==============================] - 0s 2ms/step - loss: 1.1044 - accuracy: 0.3445\n",
      "Epoch 39/50\n",
      "15/15 [==============================] - 0s 2ms/step - loss: 1.1044 - accuracy: 0.3445\n",
      "Epoch 40/50\n",
      "15/15 [==============================] - 0s 2ms/step - loss: 1.1044 - accuracy: 0.3445\n",
      "Epoch 41/50\n",
      "15/15 [==============================] - 0s 2ms/step - loss: 1.1044 - accuracy: 0.3445\n",
      "Epoch 42/50\n",
      "15/15 [==============================] - 0s 2ms/step - loss: 1.1044 - accuracy: 0.3445\n",
      "Epoch 43/50\n",
      "15/15 [==============================] - 0s 2ms/step - loss: 1.1044 - accuracy: 0.3445\n",
      "Epoch 44/50\n",
      "15/15 [==============================] - 0s 2ms/step - loss: 1.1044 - accuracy: 0.3445\n",
      "Epoch 45/50\n",
      "15/15 [==============================] - 0s 2ms/step - loss: 1.1044 - accuracy: 0.3445\n",
      "Epoch 46/50\n",
      "15/15 [==============================] - 0s 2ms/step - loss: 1.1044 - accuracy: 0.3445\n",
      "Epoch 47/50\n",
      "15/15 [==============================] - 0s 2ms/step - loss: 1.1044 - accuracy: 0.3445\n",
      "Epoch 48/50\n",
      "15/15 [==============================] - 0s 1ms/step - loss: 1.1044 - accuracy: 0.3445\n",
      "Epoch 49/50\n",
      "15/15 [==============================] - 0s 1ms/step - loss: 1.1044 - accuracy: 0.3445\n",
      "Epoch 50/50\n",
      "15/15 [==============================] - 0s 1ms/step - loss: 1.1044 - accuracy: 0.3445\n"
     ]
    },
    {
     "data": {
      "text/plain": [
       "<tensorflow.python.keras.callbacks.History at 0x7f5ce8439e50>"
      ]
     },
     "execution_count": 78,
     "metadata": {},
     "output_type": "execute_result"
    }
   ],
   "source": [
    "model.fit(X_train, Y_train, epochs=50, batch_size = 8)"
   ]
  },
  {
   "cell_type": "code",
   "execution_count": 79,
   "metadata": {},
   "outputs": [
    {
     "name": "stdout",
     "output_type": "stream",
     "text": [
      "1/1 [==============================] - 0s 1ms/step - loss: 1.0524 - accuracy: 0.2333\n"
     ]
    },
    {
     "data": {
      "text/plain": [
       "[1.052404522895813, 0.23333333432674408]"
      ]
     },
     "execution_count": 79,
     "metadata": {},
     "output_type": "execute_result"
    }
   ],
   "source": [
    "model.evaluate(X_test, Y_test)"
   ]
  },
  {
   "cell_type": "code",
   "execution_count": 101,
   "metadata": {},
   "outputs": [
    {
     "data": {
      "text/plain": [
       "(30, 4)"
      ]
     },
     "execution_count": 101,
     "metadata": {},
     "output_type": "execute_result"
    }
   ],
   "source": [
    "X_test.shape"
   ]
  },
  {
   "cell_type": "code",
   "execution_count": 109,
   "metadata": {},
   "outputs": [
    {
     "data": {
      "text/plain": [
       "array([[0.33333835, 0.3332079 , 0.33345374],\n",
       "       [0.33333835, 0.3332079 , 0.33345374],\n",
       "       [0.33286023, 0.33483183, 0.33230796],\n",
       "       [0.33333835, 0.3332079 , 0.33345374],\n",
       "       [0.33333835, 0.3332079 , 0.33345374],\n",
       "       [0.33333835, 0.3332079 , 0.33345374],\n",
       "       [0.33333835, 0.3332079 , 0.33345374],\n",
       "       [0.33333835, 0.3332079 , 0.33345374],\n",
       "       [0.33333835, 0.3332079 , 0.33345374],\n",
       "       [0.33333835, 0.3332079 , 0.33345374],\n",
       "       [0.33333835, 0.3332079 , 0.33345374],\n",
       "       [0.33333835, 0.3332079 , 0.33345374],\n",
       "       [0.33333835, 0.3332079 , 0.33345374],\n",
       "       [0.332108  , 0.3373705 , 0.3305215 ],\n",
       "       [0.33333835, 0.3332079 , 0.33345374],\n",
       "       [0.33333835, 0.3332079 , 0.33345374],\n",
       "       [0.33333835, 0.3332079 , 0.33345374],\n",
       "       [0.33333835, 0.3332079 , 0.33345374],\n",
       "       [0.33333835, 0.3332079 , 0.33345374],\n",
       "       [0.3304322 , 0.3429579 , 0.32660988],\n",
       "       [0.33333835, 0.3332079 , 0.33345374],\n",
       "       [0.33333835, 0.3332079 , 0.33345374],\n",
       "       [0.33333835, 0.3332079 , 0.33345374],\n",
       "       [0.33333835, 0.3332079 , 0.33345374],\n",
       "       [0.33333835, 0.3332079 , 0.33345374],\n",
       "       [0.33333835, 0.3332079 , 0.33345374],\n",
       "       [0.33333835, 0.3332079 , 0.33345374],\n",
       "       [0.33333835, 0.3332079 , 0.33345374],\n",
       "       [0.33333835, 0.3332079 , 0.33345374],\n",
       "       [0.33333835, 0.3332079 , 0.33345374]], dtype=float32)"
      ]
     },
     "execution_count": 109,
     "metadata": {},
     "output_type": "execute_result"
    }
   ],
   "source": [
    "pred = model.predict(X_test)\n",
    "pred\n"
   ]
  },
  {
   "cell_type": "code",
   "execution_count": 103,
   "metadata": {},
   "outputs": [
    {
     "data": {
      "text/plain": [
       "(30,)"
      ]
     },
     "execution_count": 103,
     "metadata": {},
     "output_type": "execute_result"
    }
   ],
   "source": [
    "Y_test.shape"
   ]
  },
  {
   "cell_type": "code",
   "execution_count": 104,
   "metadata": {},
   "outputs": [
    {
     "data": {
      "text/plain": [
       "(30, 3)"
      ]
     },
     "execution_count": 104,
     "metadata": {},
     "output_type": "execute_result"
    }
   ],
   "source": [
    "Y_pred.shape"
   ]
  },
  {
   "cell_type": "code",
   "execution_count": 107,
   "metadata": {},
   "outputs": [
    {
     "data": {
      "text/plain": [
       "81     1.0\n",
       "132    2.0\n",
       "10     0.0\n",
       "87     1.0\n",
       "52     1.0\n",
       "56     1.0\n",
       "58     1.0\n",
       "83     1.0\n",
       "39     0.0\n",
       "148    2.0\n",
       "146    2.0\n",
       "141    2.0\n",
       "66     1.0\n",
       "1      0.0\n",
       "19     0.0\n",
       "108    2.0\n",
       "82     1.0\n",
       "38     0.0\n",
       "21     0.0\n",
       "35     0.0\n",
       "72     1.0\n",
       "118    2.0\n",
       "53     1.0\n",
       "24     0.0\n",
       "67     1.0\n",
       "2      0.0\n",
       "84     1.0\n",
       "140    2.0\n",
       "98     1.0\n",
       "85     1.0\n",
       "Name: target, dtype: float64"
      ]
     },
     "execution_count": 107,
     "metadata": {},
     "output_type": "execute_result"
    }
   ],
   "source": [
    "Y_test"
   ]
  },
  {
   "cell_type": "markdown",
   "metadata": {},
   "source": [
    "# with Dropout"
   ]
  },
  {
   "cell_type": "code",
   "execution_count": 116,
   "metadata": {},
   "outputs": [],
   "source": [
    "model1= keras.Sequential([\n",
    "    Dense(5, input_dim= 4, activation= 'relu'),\n",
    "    Dropout(0.5),\n",
    "    Dense(3,  activation= 'softmax')\n",
    "])"
   ]
  },
  {
   "cell_type": "code",
   "execution_count": 117,
   "metadata": {},
   "outputs": [],
   "source": [
    "model1.compile(loss='binary_crossentropy', optimizer = 'adam', metrics = ['accuracy'])"
   ]
  },
  {
   "cell_type": "code",
   "execution_count": 118,
   "metadata": {},
   "outputs": [
    {
     "name": "stdout",
     "output_type": "stream",
     "text": [
      "Epoch 1/50\n",
      "15/15 [==============================] - 0s 2ms/step - loss: 5.1437 - accuracy: 0.3277\n",
      "Epoch 2/50\n",
      "15/15 [==============================] - 0s 2ms/step - loss: 5.1117 - accuracy: 0.3109\n",
      "Epoch 3/50\n",
      "15/15 [==============================] - 0s 2ms/step - loss: 4.7543 - accuracy: 0.2941\n",
      "Epoch 4/50\n",
      "15/15 [==============================] - 0s 2ms/step - loss: 4.5450 - accuracy: 0.2689\n",
      "Epoch 5/50\n",
      "15/15 [==============================] - 0s 2ms/step - loss: 4.3911 - accuracy: 0.3361\n",
      "Epoch 6/50\n",
      "15/15 [==============================] - 0s 2ms/step - loss: 4.4483 - accuracy: 0.3277\n",
      "Epoch 7/50\n",
      "15/15 [==============================] - 0s 2ms/step - loss: 3.8498 - accuracy: 0.3193\n",
      "Epoch 8/50\n",
      "15/15 [==============================] - 0s 2ms/step - loss: 3.8017 - accuracy: 0.3697\n",
      "Epoch 9/50\n",
      "15/15 [==============================] - 0s 2ms/step - loss: 3.4629 - accuracy: 0.3025\n",
      "Epoch 10/50\n",
      "15/15 [==============================] - 0s 2ms/step - loss: 3.1589 - accuracy: 0.4370\n",
      "Epoch 11/50\n",
      "15/15 [==============================] - 0s 2ms/step - loss: 2.4753 - accuracy: 0.3950\n",
      "Epoch 12/50\n",
      "15/15 [==============================] - 0s 2ms/step - loss: 2.6370 - accuracy: 0.4202\n",
      "Epoch 13/50\n",
      "15/15 [==============================] - 0s 2ms/step - loss: 2.3194 - accuracy: 0.3613\n",
      "Epoch 14/50\n",
      "15/15 [==============================] - 0s 2ms/step - loss: 2.0869 - accuracy: 0.3445\n",
      "Epoch 15/50\n",
      "15/15 [==============================] - 0s 2ms/step - loss: 1.9592 - accuracy: 0.3697\n",
      "Epoch 16/50\n",
      "15/15 [==============================] - 0s 2ms/step - loss: 1.6895 - accuracy: 0.3782\n",
      "Epoch 17/50\n",
      "15/15 [==============================] - 0s 2ms/step - loss: 1.5460 - accuracy: 0.3109\n",
      "Epoch 18/50\n",
      "15/15 [==============================] - 0s 2ms/step - loss: 1.4911 - accuracy: 0.2689\n",
      "Epoch 19/50\n",
      "15/15 [==============================] - 0s 2ms/step - loss: 1.3177 - accuracy: 0.2521\n",
      "Epoch 20/50\n",
      "15/15 [==============================] - 0s 3ms/step - loss: 1.2596 - accuracy: 0.3109\n",
      "Epoch 21/50\n",
      "15/15 [==============================] - 0s 2ms/step - loss: 1.2213 - accuracy: 0.2689\n",
      "Epoch 22/50\n",
      "15/15 [==============================] - 0s 2ms/step - loss: 1.1889 - accuracy: 0.2857\n",
      "Epoch 23/50\n",
      "15/15 [==============================] - 0s 3ms/step - loss: 1.1787 - accuracy: 0.2437\n",
      "Epoch 24/50\n",
      "15/15 [==============================] - 0s 3ms/step - loss: 1.1669 - accuracy: 0.2605\n",
      "Epoch 25/50\n",
      "15/15 [==============================] - 0s 3ms/step - loss: 1.1548 - accuracy: 0.2773\n",
      "Epoch 26/50\n",
      "15/15 [==============================] - 0s 2ms/step - loss: 1.1577 - accuracy: 0.2605\n",
      "Epoch 27/50\n",
      "15/15 [==============================] - 0s 3ms/step - loss: 1.1505 - accuracy: 0.2941\n",
      "Epoch 28/50\n",
      "15/15 [==============================] - 0s 2ms/step - loss: 1.1535 - accuracy: 0.2605\n",
      "Epoch 29/50\n",
      "15/15 [==============================] - 0s 3ms/step - loss: 1.1565 - accuracy: 0.2101\n",
      "Epoch 30/50\n",
      "15/15 [==============================] - 0s 2ms/step - loss: 1.1481 - accuracy: 0.2437\n",
      "Epoch 31/50\n",
      "15/15 [==============================] - 0s 3ms/step - loss: 1.1473 - accuracy: 0.2689\n",
      "Epoch 32/50\n",
      "15/15 [==============================] - 0s 3ms/step - loss: 1.1465 - accuracy: 0.2269\n",
      "Epoch 33/50\n",
      "15/15 [==============================] - 0s 2ms/step - loss: 1.1470 - accuracy: 0.2353\n",
      "Epoch 34/50\n",
      "15/15 [==============================] - 0s 2ms/step - loss: 1.1462 - accuracy: 0.2605\n",
      "Epoch 35/50\n",
      "15/15 [==============================] - 0s 2ms/step - loss: 1.1398 - accuracy: 0.2857\n",
      "Epoch 36/50\n",
      "15/15 [==============================] - 0s 2ms/step - loss: 1.1456 - accuracy: 0.2437\n",
      "Epoch 37/50\n",
      "15/15 [==============================] - 0s 2ms/step - loss: 1.1419 - accuracy: 0.2605\n",
      "Epoch 38/50\n",
      "15/15 [==============================] - 0s 2ms/step - loss: 1.1413 - accuracy: 0.2857\n",
      "Epoch 39/50\n",
      "15/15 [==============================] - 0s 2ms/step - loss: 1.1380 - accuracy: 0.2521\n",
      "Epoch 40/50\n",
      "15/15 [==============================] - 0s 2ms/step - loss: 1.1346 - accuracy: 0.2857\n",
      "Epoch 41/50\n",
      "15/15 [==============================] - 0s 2ms/step - loss: 1.1388 - accuracy: 0.1849\n",
      "Epoch 42/50\n",
      "15/15 [==============================] - 0s 2ms/step - loss: 1.1361 - accuracy: 0.2605\n",
      "Epoch 43/50\n",
      "15/15 [==============================] - 0s 2ms/step - loss: 1.1363 - accuracy: 0.2521\n",
      "Epoch 44/50\n",
      "15/15 [==============================] - 0s 2ms/step - loss: 1.1321 - accuracy: 0.3529\n",
      "Epoch 45/50\n",
      "15/15 [==============================] - 0s 2ms/step - loss: 1.1325 - accuracy: 0.2269\n",
      "Epoch 46/50\n",
      "15/15 [==============================] - 0s 2ms/step - loss: 1.1271 - accuracy: 0.2773\n",
      "Epoch 47/50\n",
      "15/15 [==============================] - 0s 2ms/step - loss: 1.1324 - accuracy: 0.2437\n",
      "Epoch 48/50\n",
      "15/15 [==============================] - 0s 2ms/step - loss: 1.1325 - accuracy: 0.2689\n",
      "Epoch 49/50\n",
      "15/15 [==============================] - 0s 2ms/step - loss: 1.1274 - accuracy: 0.3025\n",
      "Epoch 50/50\n",
      "15/15 [==============================] - 0s 2ms/step - loss: 1.1234 - accuracy: 0.3193\n"
     ]
    },
    {
     "data": {
      "text/plain": [
       "<tensorflow.python.keras.callbacks.History at 0x7f5ac1f36f10>"
      ]
     },
     "execution_count": 118,
     "metadata": {},
     "output_type": "execute_result"
    }
   ],
   "source": [
    "model1.fit(X_train, Y_train, epochs=50, batch_size = 8)"
   ]
  },
  {
   "cell_type": "code",
   "execution_count": 119,
   "metadata": {},
   "outputs": [
    {
     "name": "stdout",
     "output_type": "stream",
     "text": [
      "1/1 [==============================] - 0s 1ms/step - loss: 1.0653 - accuracy: 0.4000\n"
     ]
    },
    {
     "data": {
      "text/plain": [
       "[1.0652962923049927, 0.4000000059604645]"
      ]
     },
     "execution_count": 119,
     "metadata": {},
     "output_type": "execute_result"
    }
   ],
   "source": [
    "model1.evaluate(X_test, Y_test)"
   ]
  },
  {
   "cell_type": "markdown",
   "metadata": {},
   "source": [
    "# we can compare without dropout layer performance as well with dropout layer performance\n",
    "\n",
    "## so we got to know Dropout layer reduce the overfitting in model."
   ]
  },
  {
   "cell_type": "code",
   "execution_count": null,
   "metadata": {},
   "outputs": [],
   "source": []
  }
 ],
 "metadata": {
  "kernelspec": {
   "display_name": "Tensorflow-GPU",
   "language": "python",
   "name": "tf-gpu"
  },
  "language_info": {
   "codemirror_mode": {
    "name": "ipython",
    "version": 3
   },
   "file_extension": ".py",
   "mimetype": "text/x-python",
   "name": "python",
   "nbconvert_exporter": "python",
   "pygments_lexer": "ipython3",
   "version": "3.8.5"
  }
 },
 "nbformat": 4,
 "nbformat_minor": 4
}
