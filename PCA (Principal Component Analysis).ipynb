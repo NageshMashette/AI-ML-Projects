{
 "cells": [
  {
   "cell_type": "code",
   "execution_count": null,
   "metadata": {},
   "outputs": [],
   "source": []
  },
  {
   "cell_type": "code",
   "execution_count": 9,
   "metadata": {},
   "outputs": [],
   "source": [
    "import numpy as np\n",
    "from sklearn.decomposition import PCA\n",
    "import pandas as pd\n",
    "import matplotlib.pyplot as plt"
   ]
  },
  {
   "cell_type": "code",
   "execution_count": 20,
   "metadata": {},
   "outputs": [
    {
     "name": "stdout",
     "output_type": "stream",
     "text": [
      "  Ethnicity  Height  weight survive\n",
      "0     white     180      45     yes\n",
      "1     Asian     190      65      No\n",
      "2   african     120      42     yes\n",
      "3     white     145      53      No\n",
      "4     asian     185      65      No\n"
     ]
    }
   ],
   "source": [
    "health ={'Ethnicity':['white','Asian','african','white','asian'],\n",
    "                 'Height':[180,190,120,145,185],\n",
    "                 'weight': [45,65,42,53,65],\n",
    "                 'survive':['yes','No','yes','No','No']}\n",
    "#print(health)\n",
    "#type(health)\n",
    "df = pd.DataFrame.from_dict(health)\n",
    "print(df)"
   ]
  },
  {
   "cell_type": "code",
   "execution_count": 21,
   "metadata": {},
   "outputs": [],
   "source": [
    "\n",
    "#df = pd.read_csv ('Health.csv')\n",
    "\n",
    "X = df.iloc [:,0:3].values  # X is independent variable\n",
    "y = df.iloc [:,3].values   #dependent variable"
   ]
  },
  {
   "cell_type": "code",
   "execution_count": null,
   "metadata": {},
   "outputs": [],
   "source": []
  },
  {
   "cell_type": "code",
   "execution_count": 25,
   "metadata": {},
   "outputs": [],
   "source": [
    "from sklearn.preprocessing import LabelEncoder\n",
    "X_labelencoder = LabelEncoder()\n",
    "X[:, 0] = X_labelencoder.fit_transform(X[:, 0])\n",
    "#print (X)\n",
    "\n",
    "# for y\n",
    "y_labelencoder = LabelEncoder ()\n",
    "y = y_labelencoder.fit_transform (y)\n",
    "#print (y)"
   ]
  },
  {
   "cell_type": "code",
   "execution_count": 26,
   "metadata": {},
   "outputs": [
    {
     "name": "stdout",
     "output_type": "stream",
     "text": [
      "before PCA: \n",
      "[[3 180 45]\n",
      " [0 190 65]\n",
      " [1 120 42]\n",
      " [3 145 53]\n",
      " [2 185 65]]\n",
      "After doing PCA\n",
      "[[-13.13330623  12.87939888]\n",
      " [-27.96421532  -4.04036023]\n",
      " [ 45.60273667   0.1733681 ]\n",
      " [ 18.62004313  -3.83652056]\n",
      " [-23.12525825  -5.17588618]]\n"
     ]
    }
   ],
   "source": [
    "\n",
    "\n",
    "print(\"before PCA: \")\n",
    "print(X)\n",
    "pc = PCA(n_components=2)\n",
    "pc.fit(X)\n",
    "\n",
    "X_pca = pc.transform(X)\n",
    "print(\"After doing PCA\")\n",
    "print(X_pca)\n",
    "\n"
   ]
  },
  {
   "cell_type": "code",
   "execution_count": 28,
   "metadata": {},
   "outputs": [
    {
     "name": "stdout",
     "output_type": "stream",
     "text": [
      "original shape:    (5, 3)\n",
      "transformed shape: (5, 2)\n"
     ]
    }
   ],
   "source": [
    "print(\"original shape:   \", X.shape)  # (9,3)\n",
    "print(\"transformed shape:\", X_pca.shape) #(9,2) when n_components =2\n"
   ]
  },
  {
   "cell_type": "code",
   "execution_count": 29,
   "metadata": {},
   "outputs": [
    {
     "name": "stdout",
     "output_type": "stream",
     "text": [
      "[0.94469558 0.05398142]\n"
     ]
    }
   ],
   "source": [
    "print(pc.explained_variance_ratio_)   # # 93% data belongs to first axis and 5% data belongs to the second axis and remaining belongs to others\n"
   ]
  },
  {
   "cell_type": "code",
   "execution_count": null,
   "metadata": {},
   "outputs": [],
   "source": [
    "df = pd.DataFrame(X_pca,columns = ['PCA1','PCA2'])\n",
    "print(df)\n",
    "#print(df.iloc[:,0"
   ]
  }
 ],
 "metadata": {
  "kernelspec": {
   "display_name": "Tensorflow-GPU",
   "language": "python",
   "name": "tf-gpu"
  },
  "language_info": {
   "codemirror_mode": {
    "name": "ipython",
    "version": 3
   },
   "file_extension": ".py",
   "mimetype": "text/x-python",
   "name": "python",
   "nbconvert_exporter": "python",
   "pygments_lexer": "ipython3",
   "version": "3.8.5"
  }
 },
 "nbformat": 4,
 "nbformat_minor": 4
}
